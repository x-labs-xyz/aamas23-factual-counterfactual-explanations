{
 "cells": [
  {
   "cell_type": "code",
   "execution_count": 1,
   "id": "6d6a8960-a790-4ac5-956b-f0c141cf05ee",
   "metadata": {},
   "outputs": [],
   "source": [
    "# import necessary libraries\n",
    "import pandas as pd\n",
    "import numpy as np\n",
    "import csv\n",
    "from sklearn.metrics import brier_score_loss\n",
    "import pickle\n",
    "from numpy import std, mean, sqrt\n",
    "from scipy import stats\n",
    "pd.options.mode.chained_assignment = None"
   ]
  },
  {
   "cell_type": "code",
   "execution_count": 2,
   "id": "77175bbf-5682-43db-9157-6b2e097a03b6",
   "metadata": {},
   "outputs": [],
   "source": [
    "# read csv files into dataframe\n",
    "workers = pd.read_csv('datasets/participants.csv')\n",
    "results = pd.read_csv('datasets/results.csv')\n",
    "sample = pd.read_csv('datasets/defendants.csv')"
   ]
  },
  {
   "cell_type": "markdown",
   "id": "f380069a-990d-46ca-80ce-09ab56d0f798",
   "metadata": {},
   "source": [
    "## Influence Disparity\n",
    "- 'Influence' refers to the influence of the risk assessment model on participants' predictions.\n",
    "- 'Influence disparity' refers to the difference in the influence of the risk assessment model on predictions for white defendants vs black defendants."
   ]
  },
  {
   "cell_type": "code",
   "execution_count": 3,
   "id": "da8ddbba-210c-4df4-bbe1-36a5ccd7d5ac",
   "metadata": {},
   "outputs": [],
   "source": [
    "# divide results into (1) those for which the risk assessment model score > the average baseline score\n",
    "# (ra > avg baseline) which indicates participants were encouraged by the risk assessment model to increase their scores, and\n",
    "# (2) those for which the risk assessment model score < the average baseline score (ra < avg baseline)\n",
    "# , which indicates participants were encouraged by the risk assessment model to decrease their scores\n",
    "\n",
    "# dispt_direction = 1 for ra > avg baseline, and 0 for (ra < avg baseline)\n",
    "sample['dispt_direction']=np.nan \n",
    "results_baseline = results.loc[results['treatment']==0]\n",
    "for index, row in sample.iterrows():\n",
    "    baseline_temp = results_baseline.loc[results_baseline['defendant_id']==row['id']]\n",
    "    avg_baseline_temp = sum(baseline_temp['participant_score']) /len(baseline_temp)\n",
    "    ra_score = row['alg_risk_score_decile']    \n",
    "    if (ra_score > avg_baseline_temp):\n",
    "        sample.at[index,'dispt_direction'] = 1\n",
    "    else:\n",
    "        sample.at[index,'dispt_direction'] = 0"
   ]
  },
  {
   "cell_type": "markdown",
   "id": "0ac01391-c063-4958-ba5b-6fa4d9f92722",
   "metadata": {},
   "source": [
    "#### Treatment 1: Risk Assessment Model Only (unexplained)"
   ]
  },
  {
   "cell_type": "code",
   "execution_count": 4,
   "id": "62c5d4e7-9416-4ff1-99c2-4683266925a2",
   "metadata": {},
   "outputs": [],
   "source": [
    "sample_influence_1 = sample.loc[(sample['influence_1']<=1.01) & (sample['influence_1']>=-0.01)]\n",
    "ra_treatment_dir_1 = sample_influence_1.loc[sample_influence_1['dispt_direction']==1]\n",
    "ra_treatment_dir_0 = sample_influence_1.loc[sample_influence_1['dispt_direction']==0]\n",
    "ra_treatment_dir_1_white = ra_treatment_dir_1.loc[ra_treatment_dir_1['race']=='Caucasian']\n",
    "ra_treatment_dir_1_black = ra_treatment_dir_1.loc[ra_treatment_dir_1['race']=='African-American']\n",
    "ra_treatment_dir_0_white = ra_treatment_dir_0.loc[ra_treatment_dir_0['race']=='Caucasian']\n",
    "ra_treatment_dir_0_black = ra_treatment_dir_0.loc[ra_treatment_dir_0['race']=='African-American']"
   ]
  },
  {
   "cell_type": "code",
   "execution_count": 5,
   "id": "d6ac91e2-0520-48d9-b4bb-92b6f27f985c",
   "metadata": {},
   "outputs": [
    {
     "name": "stdout",
     "output_type": "stream",
     "text": [
      "ra > baseline:\n",
      "average influence on white defendants:  0.6205654932777778\n",
      "average influence on black defendants:  0.6139285831568627\n",
      "influence disparity:  -0.006636910120915052\n",
      "--------\n",
      "ra < baseline:\n",
      "average influence on white defendants:  0.625719996\n",
      "average influence on black defendants: 0.5610856427931036\n",
      "influence disparity:  -0.06463435320689637\n"
     ]
    }
   ],
   "source": [
    "avg_influence_white_1 = sum(ra_treatment_dir_1_white['influence_1'].fillna(0))/len(ra_treatment_dir_1_white)\n",
    "avg_influence_white_0 = sum(ra_treatment_dir_0_white['influence_1'].fillna(0))/len(ra_treatment_dir_0_white)\n",
    "avg_influence_black_1 = sum(ra_treatment_dir_1_black['influence_1'].fillna(0))/len(ra_treatment_dir_1_black)\n",
    "avg_influence_black_0 = sum(ra_treatment_dir_0_black['influence_1'].fillna(0))/len(ra_treatment_dir_0_black)\n",
    "\n",
    "print(\"ra > baseline:\")\n",
    "print(\"average influence on white defendants: \", avg_influence_white_1)\n",
    "print(\"average influence on black defendants: \", avg_influence_black_1)\n",
    "print(\"influence disparity: \", avg_influence_black_1 - avg_influence_white_1)\n",
    "print(\"--------\")\n",
    "print(\"ra < baseline:\")\n",
    "print(\"average influence on white defendants: \", avg_influence_white_0)\n",
    "print(\"average influence on black defendants:\", avg_influence_black_0)\n",
    "print(\"influence disparity: \", avg_influence_black_0 - avg_influence_white_0)"
   ]
  },
  {
   "cell_type": "code",
   "execution_count": 6,
   "id": "2bdf4f59-76aa-4293-a4b2-2f536449ed1d",
   "metadata": {},
   "outputs": [
    {
     "name": "stdout",
     "output_type": "stream",
     "text": [
      "significance of ra > baseline influence disparity: \n",
      "t = 0.08705596266057128\n",
      "p = 0.930886690247501\n"
     ]
    }
   ],
   "source": [
    "print('significance of ra > baseline influence disparity: ')\n",
    "t2, p2 = stats.ttest_ind(list(ra_treatment_dir_1_white['influence_1']),list(ra_treatment_dir_1_black['influence_1']))\n",
    "print(\"t = \" + str(t2))\n",
    "print(\"p = \" + str(p2))"
   ]
  },
  {
   "cell_type": "code",
   "execution_count": 7,
   "id": "b457d698-c060-4275-8299-a135d5340631",
   "metadata": {},
   "outputs": [
    {
     "name": "stdout",
     "output_type": "stream",
     "text": [
      "significance of ra < baseline influence disparity: \n",
      "t = 1.0840915036355379\n",
      "p = 0.2819918693444372\n"
     ]
    }
   ],
   "source": [
    "print('significance of ra < baseline influence disparity: ')\n",
    "t2, p2 = stats.ttest_ind(list(ra_treatment_dir_0_white['influence_1']),list(ra_treatment_dir_0_black['influence_1']))\n",
    "print(\"t = \" + str(t2))\n",
    "print(\"p = \" + str(p2))"
   ]
  },
  {
   "cell_type": "markdown",
   "id": "e11aa236-5bb6-41c2-8026-b2b17c0bfee1",
   "metadata": {},
   "source": [
    "#### Treatment 2: Diverse Counterfactual"
   ]
  },
  {
   "cell_type": "code",
   "execution_count": 8,
   "id": "8a50b430-4f25-4c8b-8222-7ed1809906cb",
   "metadata": {},
   "outputs": [],
   "source": [
    "sample_influence_2 = sample.loc[(sample['influence_2']<=1.01) & (sample['influence_2']>=-0.01)]\n",
    "ra_treatment_dir_1 = sample_influence_2.loc[sample_influence_2['dispt_direction']==1]\n",
    "ra_treatment_dir_0 = sample_influence_2.loc[sample_influence_2['dispt_direction']==0]\n",
    "ra_treatment_dir_1_white = ra_treatment_dir_1.loc[ra_treatment_dir_1['race']=='Caucasian']\n",
    "ra_treatment_dir_1_black = ra_treatment_dir_1.loc[ra_treatment_dir_1['race']=='African-American']\n",
    "ra_treatment_dir_0_white = ra_treatment_dir_0.loc[ra_treatment_dir_0['race']=='Caucasian']\n",
    "ra_treatment_dir_0_black = ra_treatment_dir_0.loc[ra_treatment_dir_0['race']=='African-American']"
   ]
  },
  {
   "cell_type": "code",
   "execution_count": 9,
   "id": "ca155104-a7f8-42be-a748-c56680a51e9a",
   "metadata": {},
   "outputs": [
    {
     "name": "stdout",
     "output_type": "stream",
     "text": [
      "ra > baseline:\n",
      "average influence on white defendants:  0.589819894235294\n",
      "average influence on black defendants:  0.5151238964090908\n",
      "average influence disparity:  -0.07469599782620318\n",
      "--------\n",
      "ra < baseline:\n",
      "average influence on white defendants:  0.4467044743235294\n",
      "average influence on black defendants: 0.41704199127999997\n",
      "influence disparity:  -0.02966248304352942\n"
     ]
    }
   ],
   "source": [
    "avg_influence_white_1 = sum(ra_treatment_dir_1_white['influence_2'].fillna(0))/len(ra_treatment_dir_1_white)\n",
    "avg_influence_white_0 = sum(ra_treatment_dir_0_white['influence_2'].fillna(0))/len(ra_treatment_dir_0_white)\n",
    "avg_influence_black_1 = sum(ra_treatment_dir_1_black['influence_2'].fillna(0))/len(ra_treatment_dir_1_black)\n",
    "avg_influence_black_0 = sum(ra_treatment_dir_0_black['influence_2'].fillna(0))/len(ra_treatment_dir_0_black)\n",
    "\n",
    "print(\"ra > baseline:\")\n",
    "print(\"average influence on white defendants: \", avg_influence_white_1)\n",
    "print(\"average influence on black defendants: \", avg_influence_black_1)\n",
    "print(\"average influence disparity: \", avg_influence_black_1 - avg_influence_white_1)\n",
    "print(\"--------\")\n",
    "print(\"ra < baseline:\")\n",
    "print(\"average influence on white defendants: \", avg_influence_white_0)\n",
    "print(\"average influence on black defendants:\", avg_influence_black_0)\n",
    "print(\"influence disparity: \", avg_influence_black_0 - avg_influence_white_0)"
   ]
  },
  {
   "cell_type": "code",
   "execution_count": 10,
   "id": "06bab285-3c37-467a-a160-f75ff10483d2",
   "metadata": {},
   "outputs": [
    {
     "name": "stdout",
     "output_type": "stream",
     "text": [
      "significance of ra > baseline influence disparity: \n",
      "t = -0.5688274609985687\n",
      "p = 0.5716322726964675\n"
     ]
    }
   ],
   "source": [
    "print('significance of ra > baseline influence disparity: ')\n",
    "t2, p2 = stats.ttest_ind(list(ra_treatment_dir_1_white['influence_1']),list(ra_treatment_dir_1_black['influence_1']))\n",
    "print(\"t = \" + str(t2))\n",
    "print(\"p = \" + str(p2))"
   ]
  },
  {
   "cell_type": "code",
   "execution_count": 11,
   "id": "98fcc986-0f21-4067-8da5-8e60ad5df381",
   "metadata": {},
   "outputs": [
    {
     "name": "stdout",
     "output_type": "stream",
     "text": [
      "significance of ra < baseline influence disparity: \n",
      "t = 0.5895469061531828\n",
      "p = 0.5578241435137702\n"
     ]
    }
   ],
   "source": [
    "print('significance of ra < baseline influence disparity: ')\n",
    "t2, p2 = stats.ttest_ind(list(ra_treatment_dir_0_white['influence_1']),list(ra_treatment_dir_0_black['influence_1']))\n",
    "print(\"t = \" + str(t2))\n",
    "print(\"p = \" + str(p2))"
   ]
  },
  {
   "cell_type": "markdown",
   "id": "78d90bc9-e2b0-4599-80a9-db60bb1d603b",
   "metadata": {},
   "source": [
    "#### Treatment 3: Selective Counterfactual"
   ]
  },
  {
   "cell_type": "code",
   "execution_count": 12,
   "id": "8b81119c-0c70-45a7-969e-b9db8d736813",
   "metadata": {},
   "outputs": [],
   "source": [
    "sample_influence_3 = sample.loc[(sample['influence_3']<=1.01) & (sample['influence_3']>=-0.01)]\n",
    "ra_treatment_dir_1 = sample_influence_3.loc[sample_influence_3['dispt_direction']==1]\n",
    "ra_treatment_dir_0 = sample_influence_3.loc[sample_influence_3['dispt_direction']==0]\n",
    "ra_treatment_dir_1_white = ra_treatment_dir_1.loc[ra_treatment_dir_1['race']=='Caucasian']\n",
    "ra_treatment_dir_1_black = ra_treatment_dir_1.loc[ra_treatment_dir_1['race']=='African-American']\n",
    "ra_treatment_dir_0_white = ra_treatment_dir_0.loc[ra_treatment_dir_0['race']=='Caucasian']\n",
    "ra_treatment_dir_0_black = ra_treatment_dir_0.loc[ra_treatment_dir_0['race']=='African-American']"
   ]
  },
  {
   "cell_type": "code",
   "execution_count": 13,
   "id": "8442babd-239f-49dc-bbec-cda0d8835ae7",
   "metadata": {},
   "outputs": [
    {
     "name": "stdout",
     "output_type": "stream",
     "text": [
      "ra > baseline:\n",
      "average influence on white defendants:  0.4605618904444445\n",
      "average influence on black defendants:  0.4863780869574469\n",
      "influence disparity:  0.025816196513002376\n",
      "--------\n",
      "ra < baseline:\n",
      "average influence on white defendants:  0.5709023901470588\n",
      "average influence on black defendants: 0.49645316364285713\n",
      "influence disparity:  -0.07444922650420166\n"
     ]
    }
   ],
   "source": [
    "avg_influence_white_1 = sum(ra_treatment_dir_1_white['influence_3'].fillna(0))/len(ra_treatment_dir_1_white)\n",
    "avg_influence_white_0 = sum(ra_treatment_dir_0_white['influence_3'].fillna(0))/len(ra_treatment_dir_0_white)\n",
    "avg_influence_black_1 = sum(ra_treatment_dir_1_black['influence_3'].fillna(0))/len(ra_treatment_dir_1_black)\n",
    "avg_influence_black_0 = sum(ra_treatment_dir_0_black['influence_3'].fillna(0))/len(ra_treatment_dir_0_black)\n",
    "\n",
    "\n",
    "print(\"ra > baseline:\")\n",
    "print(\"average influence on white defendants: \", avg_influence_white_1)\n",
    "print(\"average influence on black defendants: \", avg_influence_black_1)\n",
    "print(\"influence disparity: \", avg_influence_black_1 - avg_influence_white_1)\n",
    "print(\"--------\")\n",
    "print(\"ra < baseline:\")\n",
    "print(\"average influence on white defendants: \", avg_influence_white_0)\n",
    "print(\"average influence on black defendants:\", avg_influence_black_0)\n",
    "print(\"influence disparity: \", avg_influence_black_0 - avg_influence_white_0)"
   ]
  },
  {
   "cell_type": "code",
   "execution_count": 14,
   "id": "dac10779-78d6-4e36-aadd-ee5a778f7149",
   "metadata": {},
   "outputs": [
    {
     "name": "stdout",
     "output_type": "stream",
     "text": [
      "significance of ra > baseline influence disparity: \n",
      "t = 1.9084358624598743\n",
      "p = 0.06089347194476812\n"
     ]
    }
   ],
   "source": [
    "print('significance of ra > baseline influence disparity: ')\n",
    "t2, p2 = stats.ttest_ind(list(ra_treatment_dir_1_white['influence_1']),list(ra_treatment_dir_1_black['influence_1']))\n",
    "print(\"t = \" + str(t2))\n",
    "print(\"p = \" + str(p2))"
   ]
  },
  {
   "cell_type": "code",
   "execution_count": 15,
   "id": "1c7ef9ef-8dd8-498d-9b0e-bb53a244f38f",
   "metadata": {},
   "outputs": [
    {
     "name": "stdout",
     "output_type": "stream",
     "text": [
      "significance of ra < baseline influence disparity: \n",
      "t = -0.41692564139209237\n",
      "p = 0.6782207310793688\n"
     ]
    }
   ],
   "source": [
    "print('significance of ra < baseline influence disparity: ')\n",
    "t2, p2 = stats.ttest_ind(list(ra_treatment_dir_0_white['influence_1']),list(ra_treatment_dir_0_black['influence_1']))\n",
    "print(\"t = \" + str(t2))\n",
    "print(\"p = \" + str(p2))"
   ]
  },
  {
   "cell_type": "markdown",
   "id": "d23a3e34-d7b7-42d3-af12-0eb915e6da38",
   "metadata": {},
   "source": [
    "#### Treatment 4: Complete Feature Attribution"
   ]
  },
  {
   "cell_type": "code",
   "execution_count": 16,
   "id": "ec5cd971-b9c5-4d6b-9021-3198000510a5",
   "metadata": {},
   "outputs": [],
   "source": [
    "sample_influence_4 = sample.loc[(sample['influence_4']<=1.01) & (sample['influence_4']>=-0.01)]\n",
    "ra_treatment_dir_1 = sample_influence_4.loc[sample_influence_4['dispt_direction']==1]\n",
    "ra_treatment_dir_0 = sample_influence_4.loc[sample_influence_4['dispt_direction']==0]\n",
    "ra_treatment_dir_1_white = ra_treatment_dir_1.loc[ra_treatment_dir_1['race']=='Caucasian']\n",
    "ra_treatment_dir_1_black = ra_treatment_dir_1.loc[ra_treatment_dir_1['race']=='African-American']\n",
    "ra_treatment_dir_0_white = ra_treatment_dir_0.loc[ra_treatment_dir_0['race']=='Caucasian']\n",
    "ra_treatment_dir_0_black = ra_treatment_dir_0.loc[ra_treatment_dir_0['race']=='African-American']"
   ]
  },
  {
   "cell_type": "code",
   "execution_count": 17,
   "id": "8970ba31-092a-49ed-955e-bea5c36a76b9",
   "metadata": {},
   "outputs": [
    {
     "name": "stdout",
     "output_type": "stream",
     "text": [
      "ra > baseline:\n",
      "average influence on white defendants:  0.5138545381666667\n",
      "average influence on black defendants:  0.5451719565777777\n",
      "influence disparity:  0.03131741841111102\n",
      "--------\n",
      "ra < baseline:\n",
      "average influence on white defendants:  0.5924362222307693\n",
      "average influence on black defendants:  0.6045262586\n",
      "influence disparity:  0.012090036369230672\n"
     ]
    }
   ],
   "source": [
    "avg_influence_white_1 = sum(ra_treatment_dir_1_white['influence_4'].fillna(0))/len(ra_treatment_dir_1_white)\n",
    "avg_influence_white_0 = sum(ra_treatment_dir_0_white['influence_4'].fillna(0))/len(ra_treatment_dir_0_white)\n",
    "avg_influence_black_1 = sum(ra_treatment_dir_1_black['influence_4'].fillna(0))/len(ra_treatment_dir_1_black)\n",
    "avg_influence_black_0 = sum(ra_treatment_dir_0_black['influence_4'].fillna(0))/len(ra_treatment_dir_0_black)\n",
    "\n",
    "print(\"ra > baseline:\")\n",
    "print(\"average influence on white defendants: \", avg_influence_white_1)\n",
    "print(\"average influence on black defendants: \", avg_influence_black_1)\n",
    "print(\"influence disparity: \", avg_influence_black_1 - avg_influence_white_1)\n",
    "print(\"--------\")\n",
    "print(\"ra < baseline:\")\n",
    "print(\"average influence on white defendants: \", avg_influence_white_0)\n",
    "print(\"average influence on black defendants: \", avg_influence_black_0)\n",
    "print(\"influence disparity: \", avg_influence_black_0 - avg_influence_white_0)"
   ]
  },
  {
   "cell_type": "code",
   "execution_count": 18,
   "id": "d6f6fbf8-8303-4596-8bb8-6cd73a78993b",
   "metadata": {},
   "outputs": [
    {
     "name": "stdout",
     "output_type": "stream",
     "text": [
      "significance of ra > baseline influence disparity: \n",
      "t = -0.7453126402682627\n",
      "p = 0.4589449707912857\n"
     ]
    }
   ],
   "source": [
    "print('significance of ra > baseline influence disparity: ')\n",
    "t2, p2 = stats.ttest_ind(list(ra_treatment_dir_1_white['influence_1']),list(ra_treatment_dir_1_black['influence_1']))\n",
    "print(\"t = \" + str(t2))\n",
    "print(\"p = \" + str(p2))"
   ]
  },
  {
   "cell_type": "code",
   "execution_count": 19,
   "id": "ef88d30a-8f85-4ffb-b47f-796aa3ff9c55",
   "metadata": {},
   "outputs": [
    {
     "name": "stdout",
     "output_type": "stream",
     "text": [
      "significance of ra < baseline influence disparity: \n",
      "t = 0.6786075539405666\n",
      "p = 0.49972387173650146\n"
     ]
    }
   ],
   "source": [
    "print('significance of ra < baseline influence disparity: ')\n",
    "t2, p2 = stats.ttest_ind(list(ra_treatment_dir_0_white['influence_1']),list(ra_treatment_dir_0_black['influence_1']))\n",
    "print(\"t = \" + str(t2))\n",
    "print(\"p = \" + str(p2))"
   ]
  },
  {
   "cell_type": "markdown",
   "id": "5e3ba2bf-8740-4eee-b918-1ee044a515b0",
   "metadata": {},
   "source": [
    "#### Treatment 5: Selective Feature Attribution"
   ]
  },
  {
   "cell_type": "code",
   "execution_count": 20,
   "id": "6b2a0fc9-66a7-4a9c-812b-82e3732d5d45",
   "metadata": {},
   "outputs": [],
   "source": [
    "sample_influence_4 = sample.loc[(sample['influence_5']<=1.01) & (sample['influence_5']>=-0.01)]\n",
    "ra_treatment_dir_1 = sample_influence_4.loc[sample_influence_4['dispt_direction']==1]\n",
    "ra_treatment_dir_0 = sample_influence_4.loc[sample_influence_4['dispt_direction']==0]\n",
    "ra_treatment_dir_1_white = ra_treatment_dir_1.loc[ra_treatment_dir_1['race']=='Caucasian']\n",
    "ra_treatment_dir_1_black = ra_treatment_dir_1.loc[ra_treatment_dir_1['race']=='African-American']\n",
    "ra_treatment_dir_0_white = ra_treatment_dir_0.loc[ra_treatment_dir_0['race']=='Caucasian']\n",
    "ra_treatment_dir_0_black = ra_treatment_dir_0.loc[ra_treatment_dir_0['race']=='African-American']"
   ]
  },
  {
   "cell_type": "code",
   "execution_count": 21,
   "id": "324950c5-c637-4c05-b1fb-77caf163354c",
   "metadata": {},
   "outputs": [
    {
     "name": "stdout",
     "output_type": "stream",
     "text": [
      "ra > baseline:\n",
      "average influence on white defendants:  0.5448969566\n",
      "average influence on black defendants:  0.495019971475\n",
      "influence disparity:  -0.04987698512500005\n",
      "--------\n",
      "ra < baseline:\n",
      "average influence on white defendants:  0.5587406998717948\n",
      "average influence on black defendants:  0.6401655325312501\n",
      "influence disparity:  0.08142483265945533\n"
     ]
    }
   ],
   "source": [
    "avg_influence_white_1 = sum(ra_treatment_dir_1_white['influence_5'].fillna(0))/len(ra_treatment_dir_1_white)\n",
    "avg_influence_white_0 = sum(ra_treatment_dir_0_white['influence_5'].fillna(0))/len(ra_treatment_dir_0_white)\n",
    "avg_influence_black_1 = sum(ra_treatment_dir_1_black['influence_5'].fillna(0))/len(ra_treatment_dir_1_black)\n",
    "avg_influence_black_0 = sum(ra_treatment_dir_0_black['influence_5'].fillna(0))/len(ra_treatment_dir_0_black)\n",
    "\n",
    "print(\"ra > baseline:\")\n",
    "print(\"average influence on white defendants: \", avg_influence_white_1)\n",
    "print(\"average influence on black defendants: \", avg_influence_black_1)\n",
    "print(\"influence disparity: \", avg_influence_black_1 - avg_influence_white_1)\n",
    "print(\"--------\")\n",
    "print(\"ra < baseline:\")\n",
    "print(\"average influence on white defendants: \", avg_influence_white_0)\n",
    "print(\"average influence on black defendants: \", avg_influence_black_0)\n",
    "print(\"influence disparity: \", avg_influence_black_0 - avg_influence_white_0)"
   ]
  },
  {
   "cell_type": "code",
   "execution_count": 22,
   "id": "af93c80e-8bfd-478a-88ce-0f55d346a7ad",
   "metadata": {},
   "outputs": [
    {
     "name": "stdout",
     "output_type": "stream",
     "text": [
      "significance of ra > baseline influence disparity: \n",
      "t = 1.0332480944344251\n",
      "p = 0.30577701441654487\n"
     ]
    }
   ],
   "source": [
    "print('significance of ra > baseline influence disparity: ')\n",
    "t, p = stats.ttest_ind(list(ra_treatment_dir_1_white['influence_1']),list(ra_treatment_dir_1_black['influence_1']))\n",
    "print(\"t = \" + str(t))\n",
    "print(\"p = \" + str(p))"
   ]
  },
  {
   "cell_type": "code",
   "execution_count": 23,
   "id": "98d5af9d-7c51-44f4-8fea-24c9af4c2c7b",
   "metadata": {},
   "outputs": [
    {
     "name": "stdout",
     "output_type": "stream",
     "text": [
      "significance of ra < baseline influence disparity: \n",
      "t = 0.943513559160292\n",
      "p = 0.34871032602010876\n"
     ]
    }
   ],
   "source": [
    "print('significance of ra < baseline influence disparity: ')\n",
    "t, p = stats.ttest_ind(list(ra_treatment_dir_0_white['influence_1']),list(ra_treatment_dir_0_black['influence_1']))\n",
    "print(\"t = \" + str(t))\n",
    "print(\"p = \" + str(p))"
   ]
  },
  {
   "cell_type": "markdown",
   "id": "4d018c66-da6f-4a2b-aedb-ab1df75f4da6",
   "metadata": {},
   "source": [
    "## Deviation Disparity\n",
    "- 'Deviation' refers to how much participants 'deviated' from the risk assessment model score by predicting scores than are lower or higher.\n",
    "- 'Deviation disparity' refers to the difference in participants' deviation from the risk assessment model on predictions for white defendants vs black defendants."
   ]
  },
  {
   "cell_type": "markdown",
   "id": "42fe7cbf-7496-4b38-9f44-18095f525804",
   "metadata": {},
   "source": [
    "#### Treatment 1: Risk Assessment model only (unexplained)"
   ]
  },
  {
   "cell_type": "code",
   "execution_count": 24,
   "id": "6ce7538b-530e-4c59-81fd-d732aade4c08",
   "metadata": {},
   "outputs": [
    {
     "name": "stdout",
     "output_type": "stream",
     "text": [
      "% of predictions with positive deviations:  35.66308243727599\n",
      "% of predictions with negative deviations:  32.58064516129032\n",
      "% of predictions matching the risk assessment model score:  31.75627240143369\n",
      "--------\n",
      "positive deviations: \n",
      "average white positive deviation:  2.05852417302799\n",
      "average black positive deviation:  1.9219269102990033\n",
      "% of predictions with positive white deviations:  36.28808864265928\n",
      "% of predictions with positive black deviations:  35.26654950205038\n",
      "--------\n",
      "negative deviations: \n",
      "average white negative deviation:  -1.8289085545722714\n",
      "average black negative deviation:  -1.9719298245614034\n",
      "% of predictions with negative white deviations:  31.301939058171744\n",
      "% of predictions with negative black deviations:  33.391915641476274\n",
      "--------\n",
      "average deviation for white defendants:  0.1745152354570637\n",
      "average deviation for black defendants:  0.019332161687170474\n",
      "deviation disparity:  -0.15518307376989324\n"
     ]
    }
   ],
   "source": [
    "print(\"% of predictions with positive deviations: \", len(results.loc[(results['treatment']==1) & (results['deviation']>0)]) * 100 / len(results.loc[(results['treatment']==1)])) \n",
    "print(\"% of predictions with negative deviations: \", len(results.loc[(results['treatment']==1) & (results['deviation']<0)]) * 100 / len(results.loc[(results['treatment']==1)]) )\n",
    "print(\"% of predictions matching the risk assessment model score: \", len(results.loc[(results['treatment']==1) & (results['deviation']==0)]) * 100 / len(results.loc[(results['treatment']==1)])) \n",
    "print(\"--------\")\n",
    "print(\"positive deviations: \")\n",
    "print(\"average white positive deviation: \", sum(results.loc[(results['treatment']==1) & (results['defendant_race']=='Caucasian') & (results['deviation']>0)]['deviation']) / len(results.loc[(results['treatment']==1) & (results['defendant_race']=='Caucasian') & (results['deviation']>0)]))\n",
    "print(\"average black positive deviation: \", sum(results.loc[(results['treatment']==1) & (results['defendant_race']=='African-American')  & (results['deviation']>0)]['deviation']) / len(results.loc[(results['treatment']==1) & (results['defendant_race']=='African-American') & (results['deviation']>0)]))\n",
    "print(\"% of predictions with positive white deviations: \", len(results.loc[(results['treatment']==1) & (results['defendant_race']=='Caucasian') & (results['deviation']>0)]) * 100 / len(results.loc[(results['treatment']==1) & (results['defendant_race']=='Caucasian')]))\n",
    "print(\"% of predictions with positive black deviations: \",len(results.loc[(results['treatment']==1) & (results['defendant_race']=='African-American') & (results['deviation']>0)]) * 100 / len(results.loc[(results['treatment']==1) & (results['defendant_race']=='African-American')]))\n",
    "print(\"--------\")\n",
    "print(\"negative deviations: \")\n",
    "print(\"average white negative deviation: \", sum(results.loc[(results['treatment']==1) & (results['defendant_race']=='Caucasian') & (results['deviation']<0)]['deviation']) / len(results.loc[(results['treatment']==1) & (results['defendant_race']=='Caucasian') & (results['deviation']<0)]))\n",
    "print(\"average black negative deviation: \", sum(results.loc[(results['treatment']==1) & (results['defendant_race']=='African-American')  & (results['deviation']<0)]['deviation']) / len(results.loc[(results['treatment']==1) & (results['defendant_race']=='African-American') & (results['deviation']<0)]))\n",
    "print(\"% of predictions with negative white deviations: \",len(results.loc[(results['treatment']==1) & (results['defendant_race']=='Caucasian') & (results['deviation']<0)]) * 100 / len(results.loc[(results['treatment']==1) & (results['defendant_race']=='Caucasian')]))\n",
    "print(\"% of predictions with negative black deviations: \",len(results.loc[(results['treatment']==1) & (results['defendant_race']=='African-American') & (results['deviation']<0)]) * 100 / len(results.loc[(results['treatment']==1) & (results['defendant_race']=='African-American')]))\n",
    "print(\"--------\")\n",
    "avg_white_dev = sum(results.loc[(results['treatment']==1) & (results['defendant_race']=='Caucasian')]['deviation']) / len(results.loc[(results['treatment']==1) & (results['defendant_race']=='Caucasian')])\n",
    "avg_black_dev = sum(results.loc[(results['treatment']==1) & (results['defendant_race']=='African-American')]['deviation']) / len(results.loc[(results['treatment']==1) & (results['defendant_race']=='African-American')])\n",
    "print('average deviation for white defendants: ', avg_white_dev)\n",
    "print('average deviation for black defendants: ', avg_black_dev)\n",
    "print(\"deviation disparity: \", avg_black_dev - avg_white_dev )"
   ]
  },
  {
   "cell_type": "code",
   "execution_count": 25,
   "id": "b8292bfa-b63b-44d7-a89a-9175ffbe041c",
   "metadata": {},
   "outputs": [
    {
     "name": "stdout",
     "output_type": "stream",
     "text": [
      "significance of the deviation disparity\n",
      "t = 2.0869576924552335\n",
      "p = 0.036982582415821176\n"
     ]
    }
   ],
   "source": [
    "print('significance of the deviation disparity')\n",
    "t2, p2 = stats.ttest_ind(list(results.loc[(results['treatment']==1) & (results['defendant_race']=='Caucasian')]['deviation']),list(results.loc[(results['treatment']==1) & (results['defendant_race']=='African-American')]['deviation']))\n",
    "print(\"t = \" + str(t2))\n",
    "print(\"p = \" + str(p2))"
   ]
  },
  {
   "cell_type": "markdown",
   "id": "0a3670f6-e6c7-40a7-9ae5-75c063f6ef6e",
   "metadata": {},
   "source": [
    "#### Treatment 2: Diverse Counterfactual"
   ]
  },
  {
   "cell_type": "code",
   "execution_count": 26,
   "id": "8e02f60b",
   "metadata": {},
   "outputs": [
    {
     "name": "stdout",
     "output_type": "stream",
     "text": [
      "% of predictions with positive deviations:  39.40074906367041\n",
      "% of predictions with negative deviations:  38.052434456928836\n",
      "% of predictions matching the risk assessment model score:  22.54681647940075\n",
      "--------\n",
      "positive deviations: \n",
      "average white positive deviation:  2.671578947368421\n",
      "average black positive deviation:  2.2253032928942806\n",
      "% of predictions with positive white deviations:  43.73848987108656\n",
      "% of predictions with positive black deviations:  36.426767676767675\n",
      "--------\n",
      "negative deviations: \n",
      "average white negative deviation:  -1.8796791443850267\n",
      "average black negative deviation:  -2.1713395638629285\n",
      "% of predictions with negative white deviations:  34.43830570902394\n",
      "% of predictions with negative black deviations:  40.53030303030303\n",
      "--------\n",
      "average deviation for white defendants:  0.5211786372007366\n",
      "average deviation for black defendants:  -0.06944444444444445\n",
      "deviation disparity:  -0.5906230816451811\n"
     ]
    }
   ],
   "source": [
    "print(\"% of predictions with positive deviations: \", len(results.loc[(results['treatment']==2) & (results['deviation']>0)]) * 100 / len(results.loc[(results['treatment']==2)])) \n",
    "print(\"% of predictions with negative deviations: \", len(results.loc[(results['treatment']==2) & (results['deviation']<0)]) * 100 / len(results.loc[(results['treatment']==2)]) )\n",
    "print(\"% of predictions matching the risk assessment model score: \", len(results.loc[(results['treatment']==2) & (results['deviation']==0)]) * 100 / len(results.loc[(results['treatment']==2)])) \n",
    "print(\"--------\")\n",
    "print(\"positive deviations: \")\n",
    "print(\"average white positive deviation: \", sum(results.loc[(results['treatment']==2) & (results['defendant_race']=='Caucasian') & (results['deviation']>0)]['deviation']) / len(results.loc[(results['treatment']==2) & (results['defendant_race']=='Caucasian') & (results['deviation']>0)]))\n",
    "print(\"average black positive deviation: \", sum(results.loc[(results['treatment']==2) & (results['defendant_race']=='African-American')  & (results['deviation']>0)]['deviation']) / len(results.loc[(results['treatment']==2) & (results['defendant_race']=='African-American') & (results['deviation']>0)]))\n",
    "print(\"% of predictions with positive white deviations: \", len(results.loc[(results['treatment']==2) & (results['defendant_race']=='Caucasian') & (results['deviation']>0)]) * 100 / len(results.loc[(results['treatment']==2) & (results['defendant_race']=='Caucasian')]))\n",
    "print(\"% of predictions with positive black deviations: \",len(results.loc[(results['treatment']==2) & (results['defendant_race']=='African-American') & (results['deviation']>0)]) * 100 / len(results.loc[(results['treatment']==2) & (results['defendant_race']=='African-American')]))\n",
    "print(\"--------\")\n",
    "print(\"negative deviations: \")\n",
    "print(\"average white negative deviation: \", sum(results.loc[(results['treatment']==2) & (results['defendant_race']=='Caucasian') & (results['deviation']<0)]['deviation']) / len(results.loc[(results['treatment']==2) & (results['defendant_race']=='Caucasian') & (results['deviation']<0)]))\n",
    "print(\"average black negative deviation: \", sum(results.loc[(results['treatment']==2) & (results['defendant_race']=='African-American')  & (results['deviation']<0)]['deviation']) / len(results.loc[(results['treatment']==2) & (results['defendant_race']=='African-American') & (results['deviation']<0)]))\n",
    "print(\"% of predictions with negative white deviations: \",len(results.loc[(results['treatment']==2) & (results['defendant_race']=='Caucasian') & (results['deviation']<0)]) * 100 / len(results.loc[(results['treatment']==2) & (results['defendant_race']=='Caucasian')]))\n",
    "print(\"% of predictions with negative black deviations: \",len(results.loc[(results['treatment']==2) & (results['defendant_race']=='African-American') & (results['deviation']<0)]) * 100 / len(results.loc[(results['treatment']==2) & (results['defendant_race']=='African-American')]))\n",
    "print(\"--------\")\n",
    "avg_white_dev = sum(results.loc[(results['treatment']==2) & (results['defendant_race']=='Caucasian')]['deviation']) / len(results.loc[(results['treatment']==2) & (results['defendant_race']=='Caucasian')])\n",
    "avg_black_dev = sum(results.loc[(results['treatment']==2) & (results['defendant_race']=='African-American')]['deviation']) / len(results.loc[(results['treatment']==2) & (results['defendant_race']=='African-American')])\n",
    "print('average deviation for white defendants: ', avg_white_dev)\n",
    "print('average deviation for black defendants: ', avg_black_dev)\n",
    "print(\"deviation disparity: \", avg_black_dev - avg_white_dev )"
   ]
  },
  {
   "cell_type": "code",
   "execution_count": 27,
   "id": "b9be0ca9",
   "metadata": {},
   "outputs": [
    {
     "name": "stdout",
     "output_type": "stream",
     "text": [
      "significance of the deviation disparity\n",
      "t = 6.3691693362051565\n",
      "p = 2.2305842714092542e-10\n"
     ]
    }
   ],
   "source": [
    "print('significance of the deviation disparity')\n",
    "t2, p2 = stats.ttest_ind(list(results.loc[(results['treatment']==2) & (results['defendant_race']=='Caucasian')]['deviation']),list(results.loc[(results['treatment']==2) & (results['defendant_race']=='African-American')]['deviation']))\n",
    "print(\"t = \" + str(t2))\n",
    "print(\"p = \" + str(p2))"
   ]
  },
  {
   "cell_type": "markdown",
   "id": "88e23344-e198-43fb-ac02-6af942a7cb6e",
   "metadata": {},
   "source": [
    "#### Treatment 3: Selective Counterfactual"
   ]
  },
  {
   "cell_type": "code",
   "execution_count": 28,
   "id": "ba47bdb3",
   "metadata": {},
   "outputs": [
    {
     "name": "stdout",
     "output_type": "stream",
     "text": [
      "% of predictions with positive deviations:  35.763888888888886\n",
      "% of predictions with negative deviations:  42.361111111111114\n",
      "% of predictions matching the risk assessment model score:  21.875\n",
      "--------\n",
      "positive deviations: \n",
      "average white positive deviation:  2.5186104218362284\n",
      "average black positive deviation:  2.1945773524720895\n",
      "% of predictions with positive white deviations:  35.663716814159294\n",
      "% of predictions with positive black deviations:  35.82857142857143\n",
      "--------\n",
      "negative deviations: \n",
      "average white negative deviation:  -1.8895833333333334\n",
      "average black negative deviation:  -2.151351351351351\n",
      "% of predictions with negative white deviations:  42.47787610619469\n",
      "% of predictions with negative black deviations:  42.285714285714285\n",
      "--------\n",
      "average deviation for white defendants:  0.09557522123893805\n",
      "average deviation for black defendants:  -0.12342857142857143\n",
      "deviation disparity:  -0.21900379266750947\n"
     ]
    }
   ],
   "source": [
    "print(\"% of predictions with positive deviations: \", len(results.loc[(results['treatment']==3) & (results['deviation']>0)]) * 100 / len(results.loc[(results['treatment']==3)])) \n",
    "print(\"% of predictions with negative deviations: \", len(results.loc[(results['treatment']==3) & (results['deviation']<0)]) * 100 / len(results.loc[(results['treatment']==3)]) )\n",
    "print(\"% of predictions matching the risk assessment model score: \", len(results.loc[(results['treatment']==3) & (results['deviation']==0)]) * 100 / len(results.loc[(results['treatment']==3)])) \n",
    "print(\"--------\")\n",
    "print(\"positive deviations: \")\n",
    "print(\"average white positive deviation: \", sum(results.loc[(results['treatment']==3) & (results['defendant_race']=='Caucasian') & (results['deviation']>0)]['deviation']) / len(results.loc[(results['treatment']==3) & (results['defendant_race']=='Caucasian') & (results['deviation']>0)]))\n",
    "print(\"average black positive deviation: \", sum(results.loc[(results['treatment']==3) & (results['defendant_race']=='African-American')  & (results['deviation']>0)]['deviation']) / len(results.loc[(results['treatment']==3) & (results['defendant_race']=='African-American') & (results['deviation']>0)]))\n",
    "print(\"% of predictions with positive white deviations: \", len(results.loc[(results['treatment']==3) & (results['defendant_race']=='Caucasian') & (results['deviation']>0)]) * 100 / len(results.loc[(results['treatment']==3) & (results['defendant_race']=='Caucasian')]))\n",
    "print(\"% of predictions with positive black deviations: \",len(results.loc[(results['treatment']==3) & (results['defendant_race']=='African-American') & (results['deviation']>0)]) * 100 / len(results.loc[(results['treatment']==3) & (results['defendant_race']=='African-American')]))\n",
    "print(\"--------\")\n",
    "print(\"negative deviations: \")\n",
    "print(\"average white negative deviation: \", sum(results.loc[(results['treatment']==3) & (results['defendant_race']=='Caucasian') & (results['deviation']<0)]['deviation']) / len(results.loc[(results['treatment']==3) & (results['defendant_race']=='Caucasian') & (results['deviation']<0)]))\n",
    "print(\"average black negative deviation: \", sum(results.loc[(results['treatment']==3) & (results['defendant_race']=='African-American')  & (results['deviation']<0)]['deviation']) / len(results.loc[(results['treatment']==3) & (results['defendant_race']=='African-American') & (results['deviation']<0)]))\n",
    "print(\"% of predictions with negative white deviations: \",len(results.loc[(results['treatment']==3) & (results['defendant_race']=='Caucasian') & (results['deviation']<0)]) * 100 / len(results.loc[(results['treatment']==3) & (results['defendant_race']=='Caucasian')]))\n",
    "print(\"% of predictions with negative black deviations: \",len(results.loc[(results['treatment']==3) & (results['defendant_race']=='African-American') & (results['deviation']<0)]) * 100 / len(results.loc[(results['treatment']==3) & (results['defendant_race']=='African-American')]))\n",
    "print(\"--------\")\n",
    "avg_white_dev = sum(results.loc[(results['treatment']==3) & (results['defendant_race']=='Caucasian')]['deviation']) / len(results.loc[(results['treatment']==3) & (results['defendant_race']=='Caucasian')])\n",
    "avg_black_dev = sum(results.loc[(results['treatment']==3) & (results['defendant_race']=='African-American')]['deviation']) / len(results.loc[(results['treatment']==3) & (results['defendant_race']=='African-American')])\n",
    "print('average deviation for white defendants: ', avg_white_dev)\n",
    "print('average deviation for black defendants: ', avg_black_dev)\n",
    "print(\"deviation disparity: \", avg_black_dev - avg_white_dev )"
   ]
  },
  {
   "cell_type": "code",
   "execution_count": 29,
   "id": "f922c273",
   "metadata": {},
   "outputs": [
    {
     "name": "stdout",
     "output_type": "stream",
     "text": [
      "significance of the deviation disparity\n",
      "t = 2.461493935271038\n",
      "p = 0.013894234826445142\n"
     ]
    }
   ],
   "source": [
    "print('significance of the deviation disparity')\n",
    "t2, p2 = stats.ttest_ind(list(results.loc[(results['treatment']==3) & (results['defendant_race']=='Caucasian')]['deviation']),list(results.loc[(results['treatment']==3) & (results['defendant_race']=='African-American')]['deviation']))\n",
    "print(\"t = \" + str(t2))\n",
    "print(\"p = \" + str(p2))"
   ]
  },
  {
   "cell_type": "markdown",
   "id": "28122de5-f6ec-4e38-9f75-ab411039c4d0",
   "metadata": {},
   "source": [
    "#### Treatment 4: Complete Feature Attribution"
   ]
  },
  {
   "cell_type": "code",
   "execution_count": 30,
   "id": "82a36bb7",
   "metadata": {},
   "outputs": [
    {
     "name": "stdout",
     "output_type": "stream",
     "text": [
      "% of predictions with positive deviations:  33.824561403508774\n",
      "% of predictions with negative deviations:  38.21052631578947\n",
      "% of predictions matching the risk assessment model score:  27.964912280701753\n",
      "--------\n",
      "positive deviations: \n",
      "average white positive deviation:  2.2213930348258706\n",
      "average black positive deviation:  1.896797153024911\n",
      "% of predictions with positive white deviations:  36.15107913669065\n",
      "% of predictions with positive black deviations:  32.33601841196778\n",
      "--------\n",
      "negative deviations: \n",
      "average white negative deviation:  -1.8175\n",
      "average black negative deviation:  -1.9811320754716981\n",
      "% of predictions with negative white deviations:  35.97122302158273\n",
      "% of predictions with negative black deviations:  39.64326812428078\n",
      "--------\n",
      "average deviation for white defendants:  0.14928057553956833\n",
      "average deviation for black defendants:  -0.1720368239355581\n",
      "deviation disparity:  -0.32131739947512644\n"
     ]
    }
   ],
   "source": [
    "print(\"% of predictions with positive deviations: \", len(results.loc[(results['treatment']==4) & (results['deviation']>0)]) * 100 / len(results.loc[(results['treatment']==4)])) \n",
    "print(\"% of predictions with negative deviations: \", len(results.loc[(results['treatment']==4) & (results['deviation']<0)]) * 100 / len(results.loc[(results['treatment']==4)]) )\n",
    "print(\"% of predictions matching the risk assessment model score: \", len(results.loc[(results['treatment']==4) & (results['deviation']==0)]) * 100 / len(results.loc[(results['treatment']==4)])) \n",
    "print(\"--------\")\n",
    "print(\"positive deviations: \")\n",
    "print(\"average white positive deviation: \", sum(results.loc[(results['treatment']==4) & (results['defendant_race']=='Caucasian') & (results['deviation']>0)]['deviation']) / len(results.loc[(results['treatment']==4) & (results['defendant_race']=='Caucasian') & (results['deviation']>0)]))\n",
    "print(\"average black positive deviation: \", sum(results.loc[(results['treatment']==4) & (results['defendant_race']=='African-American')  & (results['deviation']>0)]['deviation']) / len(results.loc[(results['treatment']==4) & (results['defendant_race']=='African-American') & (results['deviation']>0)]))\n",
    "print(\"% of predictions with positive white deviations: \", len(results.loc[(results['treatment']==4) & (results['defendant_race']=='Caucasian') & (results['deviation']>0)]) * 100 / len(results.loc[(results['treatment']==4) & (results['defendant_race']=='Caucasian')]))\n",
    "print(\"% of predictions with positive black deviations: \",len(results.loc[(results['treatment']==4) & (results['defendant_race']=='African-American') & (results['deviation']>0)]) * 100 / len(results.loc[(results['treatment']==4) & (results['defendant_race']=='African-American')]))\n",
    "print(\"--------\")\n",
    "print(\"negative deviations: \")\n",
    "print(\"average white negative deviation: \", sum(results.loc[(results['treatment']==4) & (results['defendant_race']=='Caucasian') & (results['deviation']<0)]['deviation']) / len(results.loc[(results['treatment']==4) & (results['defendant_race']=='Caucasian') & (results['deviation']<0)]))\n",
    "print(\"average black negative deviation: \", sum(results.loc[(results['treatment']==4) & (results['defendant_race']=='African-American')  & (results['deviation']<0)]['deviation']) / len(results.loc[(results['treatment']==4) & (results['defendant_race']=='African-American') & (results['deviation']<0)]))\n",
    "print(\"% of predictions with negative white deviations: \",len(results.loc[(results['treatment']==4) & (results['defendant_race']=='Caucasian') & (results['deviation']<0)]) * 100 / len(results.loc[(results['treatment']==4) & (results['defendant_race']=='Caucasian')]))\n",
    "print(\"% of predictions with negative black deviations: \",len(results.loc[(results['treatment']==4) & (results['defendant_race']=='African-American') & (results['deviation']<0)]) * 100 / len(results.loc[(results['treatment']==4) & (results['defendant_race']=='African-American')]))\n",
    "print(\"--------\")\n",
    "avg_white_dev = sum(results.loc[(results['treatment']==4) & (results['defendant_race']=='Caucasian')]['deviation']) / len(results.loc[(results['treatment']==4) & (results['defendant_race']=='Caucasian')])\n",
    "avg_black_dev = sum(results.loc[(results['treatment']==4) & (results['defendant_race']=='African-American')]['deviation']) / len(results.loc[(results['treatment']==4) & (results['defendant_race']=='African-American')])\n",
    "print('average deviation for white defendants: ', avg_white_dev)\n",
    "print('average deviation for black defendants: ', avg_black_dev)\n",
    "print(\"deviation disparity: \", avg_black_dev - avg_white_dev )"
   ]
  },
  {
   "cell_type": "code",
   "execution_count": 31,
   "id": "c679c18b",
   "metadata": {},
   "outputs": [
    {
     "name": "stdout",
     "output_type": "stream",
     "text": [
      "significance of the deviation disparity\n",
      "t = 4.098793493149579\n",
      "p = 4.269147121255484e-05\n"
     ]
    }
   ],
   "source": [
    "print('significance of the deviation disparity')\n",
    "t2, p2 = stats.ttest_ind(list(results.loc[(results['treatment']==4) & (results['defendant_race']=='Caucasian')]['deviation']),list(results.loc[(results['treatment']==4) & (results['defendant_race']=='African-American')]['deviation']))\n",
    "print(\"t = \" + str(t2))\n",
    "print(\"p = \" + str(p2))"
   ]
  },
  {
   "cell_type": "markdown",
   "id": "cd33ce16-bbd5-477f-b257-1f03a95accde",
   "metadata": {},
   "source": [
    "#### Treatment 5: Selective Feature Attribution"
   ]
  },
  {
   "cell_type": "code",
   "execution_count": 32,
   "id": "1c87fe3c",
   "metadata": {},
   "outputs": [
    {
     "name": "stdout",
     "output_type": "stream",
     "text": [
      "% of predictions with positive deviations:  32.365591397849464\n",
      "% of predictions with negative deviations:  40.57347670250896\n",
      "% of predictions matching the risk assessment model score:  22.580645161290324\n",
      "--------\n",
      "positive deviations: \n",
      "average white positive deviation:  2.4862637362637363\n",
      "average black positive deviation:  1.8645640074211502\n",
      "% of predictions with positive white deviations:  33.36388634280477\n",
      "% of predictions with positive black deviations:  31.72454384932313\n",
      "--------\n",
      "negative deviations: \n",
      "average white negative deviation:  -1.8512585812356979\n",
      "average black negative deviation:  -2.258992805755396\n",
      "% of predictions with negative white deviations:  40.05499541704858\n",
      "% of predictions with negative black deviations:  40.90641553855209\n",
      "--------\n",
      "average deviation for white defendants:  0.08799266727772685\n",
      "average deviation for black defendants:  -0.3325485579752796\n",
      "deviation disparity:  -0.42054122525300647\n"
     ]
    }
   ],
   "source": [
    "print(\"% of predictions with positive deviations: \", len(results.loc[(results['treatment']==5) & (results['deviation']>0)]) * 100 / len(results.loc[(results['treatment']==5)])) \n",
    "print(\"% of predictions with negative deviations: \", len(results.loc[(results['treatment']==5) & (results['deviation']<0)]) * 100 / len(results.loc[(results['treatment']==5)]) )\n",
    "print(\"% of predictions matching the risk assessment model score: \", len(results.loc[(results['treatment']==3) & (results['deviation']==0)]) * 100 / len(results.loc[(results['treatment']==5)])) \n",
    "print(\"--------\")\n",
    "print(\"positive deviations: \")\n",
    "print(\"average white positive deviation: \", sum(results.loc[(results['treatment']==5) & (results['defendant_race']=='Caucasian') & (results['deviation']>0)]['deviation']) / len(results.loc[(results['treatment']==5) & (results['defendant_race']=='Caucasian') & (results['deviation']>0)]))\n",
    "print(\"average black positive deviation: \", sum(results.loc[(results['treatment']==5) & (results['defendant_race']=='African-American')  & (results['deviation']>0)]['deviation']) / len(results.loc[(results['treatment']==5) & (results['defendant_race']=='African-American') & (results['deviation']>0)]))\n",
    "print(\"% of predictions with positive white deviations: \", len(results.loc[(results['treatment']==5) & (results['defendant_race']=='Caucasian') & (results['deviation']>0)]) * 100 / len(results.loc[(results['treatment']==5) & (results['defendant_race']=='Caucasian')]))\n",
    "print(\"% of predictions with positive black deviations: \",len(results.loc[(results['treatment']==5) & (results['defendant_race']=='African-American') & (results['deviation']>0)]) * 100 / len(results.loc[(results['treatment']==5) & (results['defendant_race']=='African-American')]))\n",
    "print(\"--------\")\n",
    "print(\"negative deviations: \")\n",
    "print(\"average white negative deviation: \", sum(results.loc[(results['treatment']==5) & (results['defendant_race']=='Caucasian') & (results['deviation']<0)]['deviation']) / len(results.loc[(results['treatment']==5) & (results['defendant_race']=='Caucasian') & (results['deviation']<0)]))\n",
    "print(\"average black negative deviation: \", sum(results.loc[(results['treatment']==5) & (results['defendant_race']=='African-American')  & (results['deviation']<0)]['deviation']) / len(results.loc[(results['treatment']==5) & (results['defendant_race']=='African-American') & (results['deviation']<0)]))\n",
    "print(\"% of predictions with negative white deviations: \",len(results.loc[(results['treatment']==5) & (results['defendant_race']=='Caucasian') & (results['deviation']<0)]) * 100 / len(results.loc[(results['treatment']==5) & (results['defendant_race']=='Caucasian')]))\n",
    "print(\"% of predictions with negative black deviations: \",len(results.loc[(results['treatment']==5) & (results['defendant_race']=='African-American') & (results['deviation']<0)]) * 100 / len(results.loc[(results['treatment']==5) & (results['defendant_race']=='African-American')]))\n",
    "print(\"--------\")\n",
    "avg_white_dev = sum(results.loc[(results['treatment']==5) & (results['defendant_race']=='Caucasian')]['deviation']) / len(results.loc[(results['treatment']==5) & (results['defendant_race']=='Caucasian')])\n",
    "avg_black_dev = sum(results.loc[(results['treatment']==5) & (results['defendant_race']=='African-American')]['deviation']) / len(results.loc[(results['treatment']==5) & (results['defendant_race']=='African-American')])\n",
    "print('average deviation for white defendants: ', avg_white_dev)\n",
    "print('average deviation for black defendants: ', avg_black_dev)\n",
    "print(\"deviation disparity: \", avg_black_dev - avg_white_dev )"
   ]
  },
  {
   "cell_type": "code",
   "execution_count": 33,
   "id": "07fd595d",
   "metadata": {},
   "outputs": [
    {
     "name": "stdout",
     "output_type": "stream",
     "text": [
      "significance of the deviation disparity\n",
      "t = 4.898029924436379\n",
      "p = 1.0233006952710233e-06\n"
     ]
    }
   ],
   "source": [
    "print('significance of the deviation disparity')\n",
    "t2, p2 = stats.ttest_ind(list(results.loc[(results['treatment']==5) & (results['defendant_race']=='Caucasian')]['deviation']),list(results.loc[(results['treatment']==5) & (results['defendant_race']=='African-American')]['deviation']))\n",
    "print(\"t = \" + str(t2))\n",
    "print(\"p = \" + str(p2))"
   ]
  }
 ],
 "metadata": {
  "kernelspec": {
   "display_name": "cf",
   "language": "python",
   "name": "cf"
  },
  "language_info": {
   "codemirror_mode": {
    "name": "ipython",
    "version": 3
   },
   "file_extension": ".py",
   "mimetype": "text/x-python",
   "name": "python",
   "nbconvert_exporter": "python",
   "pygments_lexer": "ipython3",
   "version": "3.9.5"
  }
 },
 "nbformat": 4,
 "nbformat_minor": 5
}
